{
  "nbformat": 4,
  "nbformat_minor": 0,
  "metadata": {
    "kernelspec": {
      "display_name": "Python 3",
      "language": "python",
      "name": "python3"
    },
    "language_info": {
      "codemirror_mode": {
        "name": "ipython",
        "version": 3
      },
      "file_extension": ".py",
      "mimetype": "text/x-python",
      "name": "python",
      "nbconvert_exporter": "python",
      "pygments_lexer": "ipython3",
      "version": "3.7.6"
    },
    "colab": {
      "name": "Seance7.ipynb",
      "provenance": []
    }
  },
  "cells": [
    {
      "cell_type": "markdown",
      "metadata": {
        "id": "2fPFIoDGU3hJ"
      },
      "source": [
        "En utilisant numpy:"
      ]
    },
    {
      "cell_type": "markdown",
      "metadata": {
        "id": "c5L3j2RkU3hJ"
      },
      "source": [
        "Ex 1 :Addition\n",
        "Écrire un programme pour lire les éléments de deux matrices et ajoutez les deux matrices dans la troisième.\n",
        "\n",
        "La somme de deux matrices de taille $(m,n)$, $(A{ij})$ et $(B{ij})$ notée $A+B$ est à nouveau une matrice $(C{ij})$ de taille $(m,n)$, obtenue en additionnant les éléments correspondants: $C{ij}$ = $A{ij}$ + $B{ij}$\n"
      ]
    },
    {
      "cell_type": "code",
      "metadata": {
        "id": "VqskFlfSU3hJ",
        "outputId": "f66faf42-d2c9-4138-a355-5263b0ba4971",
        "colab": {
          "base_uri": "https://localhost:8080/"
        }
      },
      "source": [
        "import numpy as np\n",
        "\n",
        "a=np.array([[3,6],[5,2],[1,8]])\n",
        "b=np.array([[6,2],[1,3],[9,2]])\n",
        "c=a+b\n",
        "\n",
        "print(\"A=\", a)\n",
        "print(\"B=\", b)\n",
        "print(\"C=\", c)"
      ],
      "execution_count": 4,
      "outputs": [
        {
          "output_type": "stream",
          "text": [
            "A= [[3 6]\n",
            " [5 2]\n",
            " [1 8]]\n",
            "B= [[6 2]\n",
            " [1 3]\n",
            " [9 2]]\n",
            "C= [[ 9  8]\n",
            " [ 6  5]\n",
            " [10 10]]\n"
          ],
          "name": "stdout"
        }
      ]
    },
    {
      "cell_type": "markdown",
      "metadata": {
        "id": "xZjNHHIwU3hJ"
      },
      "source": [
        "Ex2 :Multiplication\n",
        "Écrire un programme pour lire les éléments de deux matrices, puis multipliez les deux matrices dans la troisième.\n",
        "\n",
        "Deux matrices ne peuvent être multipliées que si le nombre de colonnes de la première matrice est le même que le nombre de lignes de la seconde matrice.\n",
        "\n",
        "Si $ A=(a_{ij})$ est une matrice de taille (m,n), $ B=(b_{ij})$ et est une matrice de taille (n,p), alors leur produit, noté $AB=(c_{ij})$ est une matrice de taille (m,p) définie par :\n",
        "$$\\forall i,j : c_{ij}=\\sum_{k=i}^{n} a_{ik}*b_{kj}$$"
      ]
    },
    {
      "cell_type": "code",
      "metadata": {
        "id": "TS4Lnec9U3hJ",
        "outputId": "be333b29-d1e4-44f0-b446-aa75f32593a4",
        "colab": {
          "base_uri": "https://localhost:8080/"
        }
      },
      "source": [
        "import numpy as np\n",
        "\n",
        "a=np.array([[6,2,3],[1,3,1],[9,2,8],[5,6,1]])\n",
        "b=np.array([[3,6],[5,2],[1,8]])\n",
        "\n",
        "c=np.dot(a,b)\n",
        "\n",
        "print(\"A=\\n\", a)\n",
        "print(\"B=\\n\", b)\n",
        "print(\"C=\\n\", c)"
      ],
      "execution_count": 8,
      "outputs": [
        {
          "output_type": "stream",
          "text": [
            "A=\n",
            " [[6 2 3]\n",
            " [1 3 1]\n",
            " [9 2 8]\n",
            " [5 6 1]]\n",
            "B=\n",
            " [[3 6]\n",
            " [5 2]\n",
            " [1 8]]\n",
            "C=\n",
            " [[ 31  64]\n",
            " [ 19  20]\n",
            " [ 45 122]\n",
            " [ 46  50]]\n"
          ],
          "name": "stdout"
        }
      ]
    },
    {
      "cell_type": "markdown",
      "metadata": {
        "id": "KwufWHQJU3hJ"
      },
      "source": [
        "Ex 3: Matrice de Markov\n",
        "\n",
        "Une matrice de Markov est une matrice carrée dont chaque élément est un réel compris entre 0 et 1 et dont la somme des éléments de chaque ligne vaut 1. Cela correspond, en probabilité, à la matrice de transition d'une chaîne de Markov finie.\n",
        "\n",
        "Une matrice est dite bistochastique (ou doublement stochastique) si la somme des éléments de chaque ligne et de chaque colonne vaut 1.\n",
        "\n",
        "1. Ecrire une fonction eststochastique(P) qui permet de vérifier est ce que la matrice P est stochastique ou non\n",
        "2. Ecrire une fonction estbistochastique(P) qui permet de vérifier est ce que la matrice P est bistochastique ou non\n",
        "3. Ecrire une fonction vecteurstable(G, h) qui permet de vérifier est ce que h est un vecteur stable de G ou non\n",
        "\n"
      ]
    },
    {
      "cell_type": "code",
      "metadata": {
        "id": "vPLsbei3U3hJ",
        "outputId": "a7b807fd-7cf2-4cb5-a38a-639a5188a1f3",
        "colab": {
          "base_uri": "https://localhost:8080/"
        }
      },
      "source": [
        "# 1\n",
        "def eststochastique(P):\n",
        "  print(P)\n",
        "  stochastique = 1\n",
        "  for i in range (0,3):\n",
        "    ligne = 0\n",
        "    for j in P[i]:\n",
        "      ligne+=j\n",
        "    if ligne != 1:\n",
        "      print(\"Matrice non stochastique\")\n",
        "      stochastique = 0\n",
        "      break\n",
        "  if stochastique != 0:\n",
        "    print(\"Matrice stochastique\")\n",
        "\n",
        "# 2\n",
        "def estbistochastique(P):\n",
        "  print(P)\n",
        "  bistochastique = 1\n",
        "  for i in range (0,3):\n",
        "    ligne = 0\n",
        "    colonne = 0\n",
        "    for j in P[i]:\n",
        "      ligne+=j\n",
        "    if ligne != 1:\n",
        "      print(\"Matrice non bistochastique\")\n",
        "      bistochastique = 0\n",
        "      break\n",
        "    for k in range (0,3):\n",
        "      colonne+=P[k][i]\n",
        "    if colonne != 1:\n",
        "      print(\"Matrice non bistochastique\")\n",
        "      bistochastique = 0\n",
        "      break\n",
        "\n",
        "  if bistochastique != 0:\n",
        "    print(\"Matrice bistochastique\")\n",
        "\n",
        "# 3\n",
        "def vecteurstable(G, h):\n",
        "  verifh=[]\n",
        "  for i in range (0,2):\n",
        "    compteur = 0\n",
        "    temp = 0\n",
        "    for j in h:\n",
        "      temp = temp+j*G[compteur][i]\n",
        "      compteur+=1\n",
        "    verifh.append(round(temp,3))\n",
        "  if(verifh==h):\n",
        "    print(f\"{h} est un vecteur stable de {G}\")\n",
        "\n",
        "# Valeur max = 10 - Matrice de 3x3\n",
        "#eststochastique(np.random.randint(10, size=(3,3)))\n",
        "#estbistochastique([[-5, 5, 1],[-3, 3, 1],[9, -7, -1]])\n",
        "vecteurstable([[0.95, 0.05],[0.03, 0.97]], [0.375, 0.625])"
      ],
      "execution_count": 62,
      "outputs": [
        {
          "output_type": "stream",
          "text": [
            "[0.375, 0.625] est un vecteur stable de [[0.95, 0.05], [0.03, 0.97]]\n"
          ],
          "name": "stdout"
        }
      ]
    },
    {
      "cell_type": "markdown",
      "metadata": {
        "id": "hSz8tE7kU3hJ"
      },
      "source": [
        "Ex 4: Transposer\n",
        "\n",
        "Programmer une fonction qui, étant donné une matrice à deux dimensions A, retourne lamatrice B dont la première colonne est la première ligne de A, la seconde la deuxième ligne de A, etc. B s’appelle la transposée de A."
      ]
    },
    {
      "cell_type": "code",
      "metadata": {
        "id": "NThGklsTU3hJ",
        "outputId": "387dc894-fb5c-422c-f028-086c29b14e54",
        "colab": {
          "base_uri": "https://localhost:8080/"
        }
      },
      "source": [
        "def transposer(m):\n",
        "  print(m)\n",
        "  mtranspo=[]\n",
        "  for i in range(0,3):\n",
        "    liste1=[]\n",
        "    for j in range(0,3):\n",
        "      liste1.append(m[j][i])\n",
        "    mtranspo.append(liste1)\n",
        "  print(mtranspo)  \n",
        "\n",
        "transposer(np.random.randint(10, size=(3,3)))"
      ],
      "execution_count": 68,
      "outputs": [
        {
          "output_type": "stream",
          "text": [
            "[[4 8 6]\n",
            " [3 5 7]\n",
            " [0 5 0]]\n",
            "[[4, 3, 0], [8, 5, 5], [6, 7, 0]]\n"
          ],
          "name": "stdout"
        }
      ]
    },
    {
      "cell_type": "markdown",
      "metadata": {
        "id": "73K107fCU3hJ"
      },
      "source": [
        "Ex 5: Permutations\n",
        "1. $M$ désignant une matrice quelconque d’entiers à $l_i$ lignes et $co$ colonnes, $n$ un entier quelconque, programmer une fonction qui retourne la matrice $Sortie$ qui empile verticalement les $co+1$ matrices obtenues en adjoignant à $M$ une colonne $A$ à $li$ lignes dont tousles éléments sont égaux à $n$, $A$ étant placée d’abord devant $M$, puis entre la première et deuxième colonne de $M^a$,etc, jusqu’à ce que $A$ devienne sa dernière colonne. La matriceobtenue  aura $co+1$ colonnes et $(n+1)$ $li$ lignes\n",
        "\n",
        "2. Écrire toutes les permutations de(1, ..., n)"
      ]
    }
  ]
}